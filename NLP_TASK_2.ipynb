{
  "metadata": {
    "kernelspec": {
      "display_name": "Python 3",
      "name": "python3"
    },
    "language_info": {
      "pygments_lexer": "ipython3",
      "nbconvert_exporter": "python",
      "version": "3.6.4",
      "file_extension": ".py",
      "codemirror_mode": {
        "name": "ipython",
        "version": 3
      },
      "name": "python",
      "mimetype": "text/x-python"
    },
    "colab": {
      "provenance": [],
      "gpuType": "T4",
      "include_colab_link": true
    },
    "accelerator": "GPU"
  },
  "nbformat_minor": 0,
  "nbformat": 4,
  "cells": [
    {
      "cell_type": "markdown",
      "metadata": {
        "id": "view-in-github",
        "colab_type": "text"
      },
      "source": [
        "<a href=\"https://colab.research.google.com/github/sudiptoghosh8/3d_image_processing/blob/main/NLP_TASK_2.ipynb\" target=\"_parent\"><img src=\"https://colab.research.google.com/assets/colab-badge.svg\" alt=\"Open In Colab\"/></a>"
      ]
    },
    {
      "cell_type": "code",
      "source": [
        "import numpy as np\n",
        "import pandas as pd\n",
        "import matplotlib.pyplot as plt\n",
        "import tensorflow as tf\n",
        "from tensorflow.keras.preprocessing.text import Tokenizer\n",
        "from tensorflow.keras.preprocessing.sequence import pad_sequences\n",
        "from sklearn.model_selection import train_test_split\n",
        "from sklearn.feature_extraction.text import TfidfVectorizer\n",
        "from sklearn.naive_bayes import MultinomialNB\n",
        "from sklearn.metrics import accuracy_score\n",
        "import re\n",
        "import nltk\n",
        "from nltk.corpus import stopwords\n",
        "from nltk.stem import PorterStemmer, WordNetLemmatizer"
      ],
      "metadata": {
        "id": "sB_vaG0joCrC"
      },
      "execution_count": 1,
      "outputs": []
    },
    {
      "cell_type": "code",
      "source": [],
      "metadata": {
        "id": "TpaqdLpgtegB"
      },
      "execution_count": 2,
      "outputs": []
    },
    {
      "cell_type": "code",
      "source": [
        "from google.colab import drive\n",
        "drive.mount('/content/drive')"
      ],
      "metadata": {
        "colab": {
          "base_uri": "https://localhost:8080/"
        },
        "id": "rKDipyd5tf1T",
        "outputId": "7849842e-91d3-4653-da15-c04f8e21e6f2"
      },
      "execution_count": 2,
      "outputs": [
        {
          "output_type": "stream",
          "name": "stdout",
          "text": [
            "Mounted at /content/drive\n"
          ]
        }
      ]
    },
    {
      "cell_type": "code",
      "source": [
        "data = pd.read_csv(\"/content/drive/MyDrive/nlp/DATASET - DATASET.csv\")\n",
        "text_data = data[\"input_address\"]\n"
      ],
      "metadata": {
        "id": "O8hi1C27tece"
      },
      "execution_count": 3,
      "outputs": []
    },
    {
      "cell_type": "code",
      "source": [
        "text_data = text_data.str.lower()\n"
      ],
      "metadata": {
        "id": "reKBIv4yteZh"
      },
      "execution_count": 4,
      "outputs": []
    },
    {
      "cell_type": "code",
      "source": [
        "text_data = text_data.str.replace(r\"[^\\w\\s]\", \"\")\n",
        "text_data = text_data.str.strip()\n"
      ],
      "metadata": {
        "colab": {
          "base_uri": "https://localhost:8080/"
        },
        "id": "YZcMiJiuteWN",
        "outputId": "48caa651-337b-41f2-b62b-eb3c8115e500"
      },
      "execution_count": 5,
      "outputs": [
        {
          "output_type": "stream",
          "name": "stderr",
          "text": [
            "<ipython-input-5-239fcb984732>:1: FutureWarning: The default value of regex will change from True to False in a future version.\n",
            "  text_data = text_data.str.replace(r\"[^\\w\\s]\", \"\")\n"
          ]
        }
      ]
    },
    {
      "cell_type": "code",
      "source": [
        "!pip install nltk"
      ],
      "metadata": {
        "colab": {
          "base_uri": "https://localhost:8080/"
        },
        "id": "vEX8z0N25Jtl",
        "outputId": "d2323506-fbab-473c-95c4-6b8f26f87ee8"
      },
      "execution_count": 6,
      "outputs": [
        {
          "output_type": "stream",
          "name": "stdout",
          "text": [
            "Requirement already satisfied: nltk in /usr/local/lib/python3.10/dist-packages (3.8.1)\n",
            "Requirement already satisfied: click in /usr/local/lib/python3.10/dist-packages (from nltk) (8.1.7)\n",
            "Requirement already satisfied: joblib in /usr/local/lib/python3.10/dist-packages (from nltk) (1.3.2)\n",
            "Requirement already satisfied: regex>=2021.8.3 in /usr/local/lib/python3.10/dist-packages (from nltk) (2023.12.25)\n",
            "Requirement already satisfied: tqdm in /usr/local/lib/python3.10/dist-packages (from nltk) (4.66.1)\n"
          ]
        }
      ]
    },
    {
      "cell_type": "code",
      "source": [
        "nltk.download('punkt')"
      ],
      "metadata": {
        "colab": {
          "base_uri": "https://localhost:8080/"
        },
        "id": "7_A7tkBo5Vat",
        "outputId": "b50babe3-0a57-4f9b-eec4-cdd2e183d4d2"
      },
      "execution_count": 7,
      "outputs": [
        {
          "output_type": "stream",
          "name": "stderr",
          "text": [
            "[nltk_data] Downloading package punkt to /root/nltk_data...\n",
            "[nltk_data]   Unzipping tokenizers/punkt.zip.\n"
          ]
        },
        {
          "output_type": "execute_result",
          "data": {
            "text/plain": [
              "True"
            ]
          },
          "metadata": {},
          "execution_count": 7
        }
      ]
    },
    {
      "cell_type": "code",
      "source": [
        "tokenized_data = text_data.apply(nltk.word_tokenize)"
      ],
      "metadata": {
        "id": "83yJehfUteSY"
      },
      "execution_count": 8,
      "outputs": []
    },
    {
      "cell_type": "code",
      "source": [
        "nltk.download('stopwords')"
      ],
      "metadata": {
        "colab": {
          "base_uri": "https://localhost:8080/"
        },
        "id": "Wnxm7dLk5cPx",
        "outputId": "993c338b-7dff-4ff0-8099-619c39b87f30"
      },
      "execution_count": 9,
      "outputs": [
        {
          "output_type": "stream",
          "name": "stderr",
          "text": [
            "[nltk_data] Downloading package stopwords to /root/nltk_data...\n",
            "[nltk_data]   Unzipping corpora/stopwords.zip.\n"
          ]
        },
        {
          "output_type": "execute_result",
          "data": {
            "text/plain": [
              "True"
            ]
          },
          "metadata": {},
          "execution_count": 9
        }
      ]
    },
    {
      "cell_type": "code",
      "source": [
        "stop_words = stopwords.words(\"english\",\"bengali\")\n",
        "tokenized_data = tokenized_data.apply(lambda tokens: [token for token in tokens if token not in stop_words])\n"
      ],
      "metadata": {
        "id": "rqYpcKm84y4q"
      },
      "execution_count": 10,
      "outputs": []
    },
    {
      "cell_type": "code",
      "source": [
        "nltk.download('wordnet')"
      ],
      "metadata": {
        "colab": {
          "base_uri": "https://localhost:8080/"
        },
        "id": "cMp4vWB95qb8",
        "outputId": "2e2fdbfc-7c9a-4caf-8905-166da750443d"
      },
      "execution_count": 11,
      "outputs": [
        {
          "output_type": "stream",
          "name": "stderr",
          "text": [
            "[nltk_data] Downloading package wordnet to /root/nltk_data...\n"
          ]
        },
        {
          "output_type": "execute_result",
          "data": {
            "text/plain": [
              "True"
            ]
          },
          "metadata": {},
          "execution_count": 11
        }
      ]
    },
    {
      "cell_type": "code",
      "source": [
        "stemmer = PorterStemmer()\n",
        "lemmatizer = WordNetLemmatizer()\n",
        "\n",
        "tokenized_data = tokenized_data.apply(lambda tokens: [stemmer.stem(token) for token in tokens])\n",
        "\n",
        "tokenized_data = tokenized_data.apply(lambda tokens: [lemmatizer.lemmatize(token) for token in tokens])"
      ],
      "metadata": {
        "id": "cgF3lkd54y2S"
      },
      "execution_count": 12,
      "outputs": []
    },
    {
      "cell_type": "code",
      "source": [
        "data[\"preprocessed_text\"] = tokenized_data.apply(lambda tokens: \" \".join(tokens))\n",
        "data.to_csv(\"preprocessed_data.csv\", index=False)\n"
      ],
      "metadata": {
        "id": "mik0HcHt4yze"
      },
      "execution_count": 13,
      "outputs": []
    },
    {
      "cell_type": "code",
      "source": [
        "data"
      ],
      "metadata": {
        "colab": {
          "base_uri": "https://localhost:8080/",
          "height": 423
        },
        "id": "CZRT4ux-4ywc",
        "outputId": "b691760b-70e4-4800-849a-eb3c70abb57c"
      },
      "execution_count": 14,
      "outputs": [
        {
          "output_type": "execute_result",
          "data": {
            "text/plain": [
              "                                           input_address  \\\n",
              "0      House -122\\/4\\/A, Ayesha Monjil(Level-6), Lal ...   \n",
              "1      184\\/6 east goran,road no 8, near shahi moshji...   \n",
              "2      386\\/A (Euro Garden),Near Gulbagh jame mosjid,...   \n",
              "3      House 306\\/C, Road 1, Shovon Shoroni, Middle P...   \n",
              "4      Shahjalal tower 2, beside samsul haque khan Co...   \n",
              "...                                                  ...   \n",
              "49137  address: 56\\/1, green road, kathalbagan bazare...   \n",
              "49138  Thonthonia, sufipara, opposite dhaka bus stand...   \n",
              "49139  house-38 & 40, road-7, Block-E, behind evercar...   \n",
              "49140  holding nub 28\\/35 ,post office colony ,near i...   \n",
              "49141  Monjil samir tawer,Dokkhin mollartek Ashkona, ...   \n",
              "\n",
              "                                       preprocessed_text  \n",
              "0      hous 1224a ayesha monjillevel6 lal mia goli be...  \n",
              "1      1846 east goranroad 8 near shahi moshjid khilg...  \n",
              "2      386a euro gardennear gulbagh jame mosjidgulbag...  \n",
              "3      hous 306c road 1 shovon shoroni middl pirerbag...  \n",
              "4      shahjal tower 2 besid samsul haqu khan colleg ...  \n",
              "...                                                  ...  \n",
              "49137  address 561 green road kathalbagan bazar golir...  \n",
              "49138  thonthonia sufipara opposit dhaka bu standbogu...  \n",
              "49139  house38 40 road7 block behind evercar bashundh...  \n",
              "49140  hold nub 2835 post offic coloni near ibn sina ...  \n",
              "49141  monjil samir tawerdokkhin mollartek ashkona dh...  \n",
              "\n",
              "[49142 rows x 2 columns]"
            ],
            "text/html": [
              "\n",
              "  <div id=\"df-7c171575-77e3-456b-8d04-99f461961492\" class=\"colab-df-container\">\n",
              "    <div>\n",
              "<style scoped>\n",
              "    .dataframe tbody tr th:only-of-type {\n",
              "        vertical-align: middle;\n",
              "    }\n",
              "\n",
              "    .dataframe tbody tr th {\n",
              "        vertical-align: top;\n",
              "    }\n",
              "\n",
              "    .dataframe thead th {\n",
              "        text-align: right;\n",
              "    }\n",
              "</style>\n",
              "<table border=\"1\" class=\"dataframe\">\n",
              "  <thead>\n",
              "    <tr style=\"text-align: right;\">\n",
              "      <th></th>\n",
              "      <th>input_address</th>\n",
              "      <th>preprocessed_text</th>\n",
              "    </tr>\n",
              "  </thead>\n",
              "  <tbody>\n",
              "    <tr>\n",
              "      <th>0</th>\n",
              "      <td>House -122\\/4\\/A, Ayesha Monjil(Level-6), Lal ...</td>\n",
              "      <td>hous 1224a ayesha monjillevel6 lal mia goli be...</td>\n",
              "    </tr>\n",
              "    <tr>\n",
              "      <th>1</th>\n",
              "      <td>184\\/6 east goran,road no 8, near shahi moshji...</td>\n",
              "      <td>1846 east goranroad 8 near shahi moshjid khilg...</td>\n",
              "    </tr>\n",
              "    <tr>\n",
              "      <th>2</th>\n",
              "      <td>386\\/A (Euro Garden),Near Gulbagh jame mosjid,...</td>\n",
              "      <td>386a euro gardennear gulbagh jame mosjidgulbag...</td>\n",
              "    </tr>\n",
              "    <tr>\n",
              "      <th>3</th>\n",
              "      <td>House 306\\/C, Road 1, Shovon Shoroni, Middle P...</td>\n",
              "      <td>hous 306c road 1 shovon shoroni middl pirerbag...</td>\n",
              "    </tr>\n",
              "    <tr>\n",
              "      <th>4</th>\n",
              "      <td>Shahjalal tower 2, beside samsul haque khan Co...</td>\n",
              "      <td>shahjal tower 2 besid samsul haqu khan colleg ...</td>\n",
              "    </tr>\n",
              "    <tr>\n",
              "      <th>...</th>\n",
              "      <td>...</td>\n",
              "      <td>...</td>\n",
              "    </tr>\n",
              "    <tr>\n",
              "      <th>49137</th>\n",
              "      <td>address: 56\\/1, green road, kathalbagan bazare...</td>\n",
              "      <td>address 561 green road kathalbagan bazar golir...</td>\n",
              "    </tr>\n",
              "    <tr>\n",
              "      <th>49138</th>\n",
              "      <td>Thonthonia, sufipara, opposite dhaka bus stand...</td>\n",
              "      <td>thonthonia sufipara opposit dhaka bu standbogu...</td>\n",
              "    </tr>\n",
              "    <tr>\n",
              "      <th>49139</th>\n",
              "      <td>house-38 &amp; 40, road-7, Block-E, behind evercar...</td>\n",
              "      <td>house38 40 road7 block behind evercar bashundh...</td>\n",
              "    </tr>\n",
              "    <tr>\n",
              "      <th>49140</th>\n",
              "      <td>holding nub 28\\/35 ,post office colony ,near i...</td>\n",
              "      <td>hold nub 2835 post offic coloni near ibn sina ...</td>\n",
              "    </tr>\n",
              "    <tr>\n",
              "      <th>49141</th>\n",
              "      <td>Monjil samir tawer,Dokkhin mollartek Ashkona, ...</td>\n",
              "      <td>monjil samir tawerdokkhin mollartek ashkona dh...</td>\n",
              "    </tr>\n",
              "  </tbody>\n",
              "</table>\n",
              "<p>49142 rows × 2 columns</p>\n",
              "</div>\n",
              "    <div class=\"colab-df-buttons\">\n",
              "\n",
              "  <div class=\"colab-df-container\">\n",
              "    <button class=\"colab-df-convert\" onclick=\"convertToInteractive('df-7c171575-77e3-456b-8d04-99f461961492')\"\n",
              "            title=\"Convert this dataframe to an interactive table.\"\n",
              "            style=\"display:none;\">\n",
              "\n",
              "  <svg xmlns=\"http://www.w3.org/2000/svg\" height=\"24px\" viewBox=\"0 -960 960 960\">\n",
              "    <path d=\"M120-120v-720h720v720H120Zm60-500h600v-160H180v160Zm220 220h160v-160H400v160Zm0 220h160v-160H400v160ZM180-400h160v-160H180v160Zm440 0h160v-160H620v160ZM180-180h160v-160H180v160Zm440 0h160v-160H620v160Z\"/>\n",
              "  </svg>\n",
              "    </button>\n",
              "\n",
              "  <style>\n",
              "    .colab-df-container {\n",
              "      display:flex;\n",
              "      gap: 12px;\n",
              "    }\n",
              "\n",
              "    .colab-df-convert {\n",
              "      background-color: #E8F0FE;\n",
              "      border: none;\n",
              "      border-radius: 50%;\n",
              "      cursor: pointer;\n",
              "      display: none;\n",
              "      fill: #1967D2;\n",
              "      height: 32px;\n",
              "      padding: 0 0 0 0;\n",
              "      width: 32px;\n",
              "    }\n",
              "\n",
              "    .colab-df-convert:hover {\n",
              "      background-color: #E2EBFA;\n",
              "      box-shadow: 0px 1px 2px rgba(60, 64, 67, 0.3), 0px 1px 3px 1px rgba(60, 64, 67, 0.15);\n",
              "      fill: #174EA6;\n",
              "    }\n",
              "\n",
              "    .colab-df-buttons div {\n",
              "      margin-bottom: 4px;\n",
              "    }\n",
              "\n",
              "    [theme=dark] .colab-df-convert {\n",
              "      background-color: #3B4455;\n",
              "      fill: #D2E3FC;\n",
              "    }\n",
              "\n",
              "    [theme=dark] .colab-df-convert:hover {\n",
              "      background-color: #434B5C;\n",
              "      box-shadow: 0px 1px 3px 1px rgba(0, 0, 0, 0.15);\n",
              "      filter: drop-shadow(0px 1px 2px rgba(0, 0, 0, 0.3));\n",
              "      fill: #FFFFFF;\n",
              "    }\n",
              "  </style>\n",
              "\n",
              "    <script>\n",
              "      const buttonEl =\n",
              "        document.querySelector('#df-7c171575-77e3-456b-8d04-99f461961492 button.colab-df-convert');\n",
              "      buttonEl.style.display =\n",
              "        google.colab.kernel.accessAllowed ? 'block' : 'none';\n",
              "\n",
              "      async function convertToInteractive(key) {\n",
              "        const element = document.querySelector('#df-7c171575-77e3-456b-8d04-99f461961492');\n",
              "        const dataTable =\n",
              "          await google.colab.kernel.invokeFunction('convertToInteractive',\n",
              "                                                    [key], {});\n",
              "        if (!dataTable) return;\n",
              "\n",
              "        const docLinkHtml = 'Like what you see? Visit the ' +\n",
              "          '<a target=\"_blank\" href=https://colab.research.google.com/notebooks/data_table.ipynb>data table notebook</a>'\n",
              "          + ' to learn more about interactive tables.';\n",
              "        element.innerHTML = '';\n",
              "        dataTable['output_type'] = 'display_data';\n",
              "        await google.colab.output.renderOutput(dataTable, element);\n",
              "        const docLink = document.createElement('div');\n",
              "        docLink.innerHTML = docLinkHtml;\n",
              "        element.appendChild(docLink);\n",
              "      }\n",
              "    </script>\n",
              "  </div>\n",
              "\n",
              "\n",
              "<div id=\"df-fc8be58b-928e-41f9-b29a-1094227607b7\">\n",
              "  <button class=\"colab-df-quickchart\" onclick=\"quickchart('df-fc8be58b-928e-41f9-b29a-1094227607b7')\"\n",
              "            title=\"Suggest charts\"\n",
              "            style=\"display:none;\">\n",
              "\n",
              "<svg xmlns=\"http://www.w3.org/2000/svg\" height=\"24px\"viewBox=\"0 0 24 24\"\n",
              "     width=\"24px\">\n",
              "    <g>\n",
              "        <path d=\"M19 3H5c-1.1 0-2 .9-2 2v14c0 1.1.9 2 2 2h14c1.1 0 2-.9 2-2V5c0-1.1-.9-2-2-2zM9 17H7v-7h2v7zm4 0h-2V7h2v10zm4 0h-2v-4h2v4z\"/>\n",
              "    </g>\n",
              "</svg>\n",
              "  </button>\n",
              "\n",
              "<style>\n",
              "  .colab-df-quickchart {\n",
              "      --bg-color: #E8F0FE;\n",
              "      --fill-color: #1967D2;\n",
              "      --hover-bg-color: #E2EBFA;\n",
              "      --hover-fill-color: #174EA6;\n",
              "      --disabled-fill-color: #AAA;\n",
              "      --disabled-bg-color: #DDD;\n",
              "  }\n",
              "\n",
              "  [theme=dark] .colab-df-quickchart {\n",
              "      --bg-color: #3B4455;\n",
              "      --fill-color: #D2E3FC;\n",
              "      --hover-bg-color: #434B5C;\n",
              "      --hover-fill-color: #FFFFFF;\n",
              "      --disabled-bg-color: #3B4455;\n",
              "      --disabled-fill-color: #666;\n",
              "  }\n",
              "\n",
              "  .colab-df-quickchart {\n",
              "    background-color: var(--bg-color);\n",
              "    border: none;\n",
              "    border-radius: 50%;\n",
              "    cursor: pointer;\n",
              "    display: none;\n",
              "    fill: var(--fill-color);\n",
              "    height: 32px;\n",
              "    padding: 0;\n",
              "    width: 32px;\n",
              "  }\n",
              "\n",
              "  .colab-df-quickchart:hover {\n",
              "    background-color: var(--hover-bg-color);\n",
              "    box-shadow: 0 1px 2px rgba(60, 64, 67, 0.3), 0 1px 3px 1px rgba(60, 64, 67, 0.15);\n",
              "    fill: var(--button-hover-fill-color);\n",
              "  }\n",
              "\n",
              "  .colab-df-quickchart-complete:disabled,\n",
              "  .colab-df-quickchart-complete:disabled:hover {\n",
              "    background-color: var(--disabled-bg-color);\n",
              "    fill: var(--disabled-fill-color);\n",
              "    box-shadow: none;\n",
              "  }\n",
              "\n",
              "  .colab-df-spinner {\n",
              "    border: 2px solid var(--fill-color);\n",
              "    border-color: transparent;\n",
              "    border-bottom-color: var(--fill-color);\n",
              "    animation:\n",
              "      spin 1s steps(1) infinite;\n",
              "  }\n",
              "\n",
              "  @keyframes spin {\n",
              "    0% {\n",
              "      border-color: transparent;\n",
              "      border-bottom-color: var(--fill-color);\n",
              "      border-left-color: var(--fill-color);\n",
              "    }\n",
              "    20% {\n",
              "      border-color: transparent;\n",
              "      border-left-color: var(--fill-color);\n",
              "      border-top-color: var(--fill-color);\n",
              "    }\n",
              "    30% {\n",
              "      border-color: transparent;\n",
              "      border-left-color: var(--fill-color);\n",
              "      border-top-color: var(--fill-color);\n",
              "      border-right-color: var(--fill-color);\n",
              "    }\n",
              "    40% {\n",
              "      border-color: transparent;\n",
              "      border-right-color: var(--fill-color);\n",
              "      border-top-color: var(--fill-color);\n",
              "    }\n",
              "    60% {\n",
              "      border-color: transparent;\n",
              "      border-right-color: var(--fill-color);\n",
              "    }\n",
              "    80% {\n",
              "      border-color: transparent;\n",
              "      border-right-color: var(--fill-color);\n",
              "      border-bottom-color: var(--fill-color);\n",
              "    }\n",
              "    90% {\n",
              "      border-color: transparent;\n",
              "      border-bottom-color: var(--fill-color);\n",
              "    }\n",
              "  }\n",
              "</style>\n",
              "\n",
              "  <script>\n",
              "    async function quickchart(key) {\n",
              "      const quickchartButtonEl =\n",
              "        document.querySelector('#' + key + ' button');\n",
              "      quickchartButtonEl.disabled = true;  // To prevent multiple clicks.\n",
              "      quickchartButtonEl.classList.add('colab-df-spinner');\n",
              "      try {\n",
              "        const charts = await google.colab.kernel.invokeFunction(\n",
              "            'suggestCharts', [key], {});\n",
              "      } catch (error) {\n",
              "        console.error('Error during call to suggestCharts:', error);\n",
              "      }\n",
              "      quickchartButtonEl.classList.remove('colab-df-spinner');\n",
              "      quickchartButtonEl.classList.add('colab-df-quickchart-complete');\n",
              "    }\n",
              "    (() => {\n",
              "      let quickchartButtonEl =\n",
              "        document.querySelector('#df-fc8be58b-928e-41f9-b29a-1094227607b7 button');\n",
              "      quickchartButtonEl.style.display =\n",
              "        google.colab.kernel.accessAllowed ? 'block' : 'none';\n",
              "    })();\n",
              "  </script>\n",
              "</div>\n",
              "\n",
              "  <div id=\"id_9336b1b4-e988-4348-b5b9-2e7303ab3e20\">\n",
              "    <style>\n",
              "      .colab-df-generate {\n",
              "        background-color: #E8F0FE;\n",
              "        border: none;\n",
              "        border-radius: 50%;\n",
              "        cursor: pointer;\n",
              "        display: none;\n",
              "        fill: #1967D2;\n",
              "        height: 32px;\n",
              "        padding: 0 0 0 0;\n",
              "        width: 32px;\n",
              "      }\n",
              "\n",
              "      .colab-df-generate:hover {\n",
              "        background-color: #E2EBFA;\n",
              "        box-shadow: 0px 1px 2px rgba(60, 64, 67, 0.3), 0px 1px 3px 1px rgba(60, 64, 67, 0.15);\n",
              "        fill: #174EA6;\n",
              "      }\n",
              "\n",
              "      [theme=dark] .colab-df-generate {\n",
              "        background-color: #3B4455;\n",
              "        fill: #D2E3FC;\n",
              "      }\n",
              "\n",
              "      [theme=dark] .colab-df-generate:hover {\n",
              "        background-color: #434B5C;\n",
              "        box-shadow: 0px 1px 3px 1px rgba(0, 0, 0, 0.15);\n",
              "        filter: drop-shadow(0px 1px 2px rgba(0, 0, 0, 0.3));\n",
              "        fill: #FFFFFF;\n",
              "      }\n",
              "    </style>\n",
              "    <button class=\"colab-df-generate\" onclick=\"generateWithVariable('data')\"\n",
              "            title=\"Generate code using this dataframe.\"\n",
              "            style=\"display:none;\">\n",
              "\n",
              "  <svg xmlns=\"http://www.w3.org/2000/svg\" height=\"24px\"viewBox=\"0 0 24 24\"\n",
              "       width=\"24px\">\n",
              "    <path d=\"M7,19H8.4L18.45,9,17,7.55,7,17.6ZM5,21V16.75L18.45,3.32a2,2,0,0,1,2.83,0l1.4,1.43a1.91,1.91,0,0,1,.58,1.4,1.91,1.91,0,0,1-.58,1.4L9.25,21ZM18.45,9,17,7.55Zm-12,3A5.31,5.31,0,0,0,4.9,8.1,5.31,5.31,0,0,0,1,6.5,5.31,5.31,0,0,0,4.9,4.9,5.31,5.31,0,0,0,6.5,1,5.31,5.31,0,0,0,8.1,4.9,5.31,5.31,0,0,0,12,6.5,5.46,5.46,0,0,0,6.5,12Z\"/>\n",
              "  </svg>\n",
              "    </button>\n",
              "    <script>\n",
              "      (() => {\n",
              "      const buttonEl =\n",
              "        document.querySelector('#id_9336b1b4-e988-4348-b5b9-2e7303ab3e20 button.colab-df-generate');\n",
              "      buttonEl.style.display =\n",
              "        google.colab.kernel.accessAllowed ? 'block' : 'none';\n",
              "\n",
              "      buttonEl.onclick = () => {\n",
              "        google.colab.notebook.generateWithVariable('data');\n",
              "      }\n",
              "      })();\n",
              "    </script>\n",
              "  </div>\n",
              "\n",
              "    </div>\n",
              "  </div>\n"
            ]
          },
          "metadata": {},
          "execution_count": 14
        }
      ]
    },
    {
      "cell_type": "code",
      "source": [],
      "metadata": {
        "id": "Y_-KKqoT4ytd"
      },
      "execution_count": 15,
      "outputs": []
    },
    {
      "cell_type": "code",
      "source": [],
      "metadata": {
        "id": "VrTPQT2X4yqU"
      },
      "execution_count": 15,
      "outputs": []
    },
    {
      "cell_type": "code",
      "source": [
        "\n",
        "\n",
        "if \"preprocessed_text\" not in data.columns:\n",
        "    raise ValueError(\"Column 'preprocessed_text' not found in the CSV file.\")\n",
        "\n",
        "\n",
        "def categorize_text(text):\n",
        "    keywords = {\n",
        "        \"Education\": [\"school\", \"university\", \"college\", \"library\", \"course\", \"training\", \"education\"],\n",
        "        \"Religious Place\": [\"mosjid\", \"temple\", \"church\", \"pagoda\", \"cathedral\", \"shrine\", \"monastery\",\"mosquie\",\"moshjid\",\"mondir\"],\n",
        "        \"Commercial\": [\"shop\", \"store\", \"market\", \"plaza\", \"mall\", \"restaurant\", \"cafe\", \"hotel\", \"office\"],\n",
        "        \"Healthcare\": [\"hospital\", \"clinic\", \"pharmacy\", \"doctor\", \"nurse\", \"medicine\", \"healthcare\"],\n",
        "        \"Recreation\": [\"park\", \"stadium\", \"museum\", \"theater\", \"cinema\", \"zoo\", \"amusement\", \"sport\", \"play\"],\n",
        "        \"Office\": [\"office\", \"building\", \"company\", \"business\", \"work\", \"headquarters\", \"corporation\"],\n",
        "        \"Bank\": [\"bank\", \"atm\", \"finance\", \"money\", \"loan\", \"account\", \"investment\"],\n",
        "        \"Food\": [\"restaurant\", \"cafe\", \"food\", \"drink\", \"bakery\", \"cuisine\", \"kitchen\", \"dining\"],\n",
        "        \"Hotel\": [\"hotel\", \"lodge\", \"motel\", \"accommodation\", \"hostel\", \"resort\", \"guesthouse\"],\n",
        "        \"Residential\": [\"house\", \"apartment\", \"flat\", \"home\", \"building\", \"residential\", \"property\"],\n",
        "        \"Utility\": [\"electricity\", \"water\", \"gas\", \"waste\", \"garbage\", \"sanitation\", \"infrastructure\"],\n",
        "        \"Fuel\": [\"petrol\", \"diesel\", \"gasoline\", \"fuel\", \"energy\", \"station\", \"refinery\"],\n",
        "        \"Agriculture\": [\"farm\", \"land\", \"crop\", \"livestock\", \"farming\", \"agriculture\", \"harvest\"],\n",
        "        \"Construction\": [\"construction\", \"building\", \"project\", \"development\", \"architecture\", \"engineering\", \"infrastructure\"]\n",
        "    }\n",
        "\n",
        "\n",
        "    multiple_categories = []\n",
        "    for category, category_keywords in keywords.items():\n",
        "        if any(keyword in text for keyword in category_keywords):\n",
        "            multiple_categories.append(category)\n",
        "\n",
        "\n",
        "    if len(multiple_categories) > 1:\n",
        "\n",
        "        category = multiple_categories[0]\n",
        "    else:\n",
        "        category = multiple_categories[0] if multiple_categories else \"Other\"\n",
        "\n",
        "    return category\n",
        "\n",
        "\n",
        "data[\"category\"] = data[\"preprocessed_text\"].apply(categorize_text)\n",
        "\n",
        "\n",
        "print(data)\n",
        "data.to_csv(\"labeled_dataset.csv\", index=False)\n"
      ],
      "metadata": {
        "colab": {
          "base_uri": "https://localhost:8080/"
        },
        "id": "H3H4Zt3_4ynl",
        "outputId": "63ac1505-5040-4779-e1c3-1603ab656597"
      },
      "execution_count": 15,
      "outputs": [
        {
          "output_type": "stream",
          "name": "stdout",
          "text": [
            "                                           input_address  \\\n",
            "0      House -122\\/4\\/A, Ayesha Monjil(Level-6), Lal ...   \n",
            "1      184\\/6 east goran,road no 8, near shahi moshji...   \n",
            "2      386\\/A (Euro Garden),Near Gulbagh jame mosjid,...   \n",
            "3      House 306\\/C, Road 1, Shovon Shoroni, Middle P...   \n",
            "4      Shahjalal tower 2, beside samsul haque khan Co...   \n",
            "...                                                  ...   \n",
            "49137  address: 56\\/1, green road, kathalbagan bazare...   \n",
            "49138  Thonthonia, sufipara, opposite dhaka bus stand...   \n",
            "49139  house-38 & 40, road-7, Block-E, behind evercar...   \n",
            "49140  holding nub 28\\/35 ,post office colony ,near i...   \n",
            "49141  Monjil samir tawer,Dokkhin mollartek Ashkona, ...   \n",
            "\n",
            "                                       preprocessed_text         category  \n",
            "0      hous 1224a ayesha monjillevel6 lal mia goli be...            Other  \n",
            "1      1846 east goranroad 8 near shahi moshjid khilg...  Religious Place  \n",
            "2      386a euro gardennear gulbagh jame mosjidgulbag...  Religious Place  \n",
            "3      hous 306c road 1 shovon shoroni middl pirerbag...            Other  \n",
            "4      shahjal tower 2 besid samsul haqu khan colleg ...            Other  \n",
            "...                                                  ...              ...  \n",
            "49137  address 561 green road kathalbagan bazar golir...            Other  \n",
            "49138  thonthonia sufipara opposit dhaka bu standbogu...            Other  \n",
            "49139  house38 40 road7 block behind evercar bashundh...      Residential  \n",
            "49140  hold nub 2835 post offic coloni near ibn sina ...       Healthcare  \n",
            "49141  monjil samir tawerdokkhin mollartek ashkona dh...            Other  \n",
            "\n",
            "[49142 rows x 3 columns]\n"
          ]
        }
      ]
    },
    {
      "cell_type": "code",
      "source": [
        "data"
      ],
      "metadata": {
        "colab": {
          "base_uri": "https://localhost:8080/",
          "height": 423
        },
        "id": "BuJB8Bq7teJj",
        "outputId": "3d7c02ca-ea17-4ba6-e396-2b6758851075"
      },
      "execution_count": 16,
      "outputs": [
        {
          "output_type": "execute_result",
          "data": {
            "text/plain": [
              "                                           input_address  \\\n",
              "0      House -122\\/4\\/A, Ayesha Monjil(Level-6), Lal ...   \n",
              "1      184\\/6 east goran,road no 8, near shahi moshji...   \n",
              "2      386\\/A (Euro Garden),Near Gulbagh jame mosjid,...   \n",
              "3      House 306\\/C, Road 1, Shovon Shoroni, Middle P...   \n",
              "4      Shahjalal tower 2, beside samsul haque khan Co...   \n",
              "...                                                  ...   \n",
              "49137  address: 56\\/1, green road, kathalbagan bazare...   \n",
              "49138  Thonthonia, sufipara, opposite dhaka bus stand...   \n",
              "49139  house-38 & 40, road-7, Block-E, behind evercar...   \n",
              "49140  holding nub 28\\/35 ,post office colony ,near i...   \n",
              "49141  Monjil samir tawer,Dokkhin mollartek Ashkona, ...   \n",
              "\n",
              "                                       preprocessed_text         category  \n",
              "0      hous 1224a ayesha monjillevel6 lal mia goli be...            Other  \n",
              "1      1846 east goranroad 8 near shahi moshjid khilg...  Religious Place  \n",
              "2      386a euro gardennear gulbagh jame mosjidgulbag...  Religious Place  \n",
              "3      hous 306c road 1 shovon shoroni middl pirerbag...            Other  \n",
              "4      shahjal tower 2 besid samsul haqu khan colleg ...            Other  \n",
              "...                                                  ...              ...  \n",
              "49137  address 561 green road kathalbagan bazar golir...            Other  \n",
              "49138  thonthonia sufipara opposit dhaka bu standbogu...            Other  \n",
              "49139  house38 40 road7 block behind evercar bashundh...      Residential  \n",
              "49140  hold nub 2835 post offic coloni near ibn sina ...       Healthcare  \n",
              "49141  monjil samir tawerdokkhin mollartek ashkona dh...            Other  \n",
              "\n",
              "[49142 rows x 3 columns]"
            ],
            "text/html": [
              "\n",
              "  <div id=\"df-ba5d310c-2be8-4205-ae23-a8c0170273f7\" class=\"colab-df-container\">\n",
              "    <div>\n",
              "<style scoped>\n",
              "    .dataframe tbody tr th:only-of-type {\n",
              "        vertical-align: middle;\n",
              "    }\n",
              "\n",
              "    .dataframe tbody tr th {\n",
              "        vertical-align: top;\n",
              "    }\n",
              "\n",
              "    .dataframe thead th {\n",
              "        text-align: right;\n",
              "    }\n",
              "</style>\n",
              "<table border=\"1\" class=\"dataframe\">\n",
              "  <thead>\n",
              "    <tr style=\"text-align: right;\">\n",
              "      <th></th>\n",
              "      <th>input_address</th>\n",
              "      <th>preprocessed_text</th>\n",
              "      <th>category</th>\n",
              "    </tr>\n",
              "  </thead>\n",
              "  <tbody>\n",
              "    <tr>\n",
              "      <th>0</th>\n",
              "      <td>House -122\\/4\\/A, Ayesha Monjil(Level-6), Lal ...</td>\n",
              "      <td>hous 1224a ayesha monjillevel6 lal mia goli be...</td>\n",
              "      <td>Other</td>\n",
              "    </tr>\n",
              "    <tr>\n",
              "      <th>1</th>\n",
              "      <td>184\\/6 east goran,road no 8, near shahi moshji...</td>\n",
              "      <td>1846 east goranroad 8 near shahi moshjid khilg...</td>\n",
              "      <td>Religious Place</td>\n",
              "    </tr>\n",
              "    <tr>\n",
              "      <th>2</th>\n",
              "      <td>386\\/A (Euro Garden),Near Gulbagh jame mosjid,...</td>\n",
              "      <td>386a euro gardennear gulbagh jame mosjidgulbag...</td>\n",
              "      <td>Religious Place</td>\n",
              "    </tr>\n",
              "    <tr>\n",
              "      <th>3</th>\n",
              "      <td>House 306\\/C, Road 1, Shovon Shoroni, Middle P...</td>\n",
              "      <td>hous 306c road 1 shovon shoroni middl pirerbag...</td>\n",
              "      <td>Other</td>\n",
              "    </tr>\n",
              "    <tr>\n",
              "      <th>4</th>\n",
              "      <td>Shahjalal tower 2, beside samsul haque khan Co...</td>\n",
              "      <td>shahjal tower 2 besid samsul haqu khan colleg ...</td>\n",
              "      <td>Other</td>\n",
              "    </tr>\n",
              "    <tr>\n",
              "      <th>...</th>\n",
              "      <td>...</td>\n",
              "      <td>...</td>\n",
              "      <td>...</td>\n",
              "    </tr>\n",
              "    <tr>\n",
              "      <th>49137</th>\n",
              "      <td>address: 56\\/1, green road, kathalbagan bazare...</td>\n",
              "      <td>address 561 green road kathalbagan bazar golir...</td>\n",
              "      <td>Other</td>\n",
              "    </tr>\n",
              "    <tr>\n",
              "      <th>49138</th>\n",
              "      <td>Thonthonia, sufipara, opposite dhaka bus stand...</td>\n",
              "      <td>thonthonia sufipara opposit dhaka bu standbogu...</td>\n",
              "      <td>Other</td>\n",
              "    </tr>\n",
              "    <tr>\n",
              "      <th>49139</th>\n",
              "      <td>house-38 &amp; 40, road-7, Block-E, behind evercar...</td>\n",
              "      <td>house38 40 road7 block behind evercar bashundh...</td>\n",
              "      <td>Residential</td>\n",
              "    </tr>\n",
              "    <tr>\n",
              "      <th>49140</th>\n",
              "      <td>holding nub 28\\/35 ,post office colony ,near i...</td>\n",
              "      <td>hold nub 2835 post offic coloni near ibn sina ...</td>\n",
              "      <td>Healthcare</td>\n",
              "    </tr>\n",
              "    <tr>\n",
              "      <th>49141</th>\n",
              "      <td>Monjil samir tawer,Dokkhin mollartek Ashkona, ...</td>\n",
              "      <td>monjil samir tawerdokkhin mollartek ashkona dh...</td>\n",
              "      <td>Other</td>\n",
              "    </tr>\n",
              "  </tbody>\n",
              "</table>\n",
              "<p>49142 rows × 3 columns</p>\n",
              "</div>\n",
              "    <div class=\"colab-df-buttons\">\n",
              "\n",
              "  <div class=\"colab-df-container\">\n",
              "    <button class=\"colab-df-convert\" onclick=\"convertToInteractive('df-ba5d310c-2be8-4205-ae23-a8c0170273f7')\"\n",
              "            title=\"Convert this dataframe to an interactive table.\"\n",
              "            style=\"display:none;\">\n",
              "\n",
              "  <svg xmlns=\"http://www.w3.org/2000/svg\" height=\"24px\" viewBox=\"0 -960 960 960\">\n",
              "    <path d=\"M120-120v-720h720v720H120Zm60-500h600v-160H180v160Zm220 220h160v-160H400v160Zm0 220h160v-160H400v160ZM180-400h160v-160H180v160Zm440 0h160v-160H620v160ZM180-180h160v-160H180v160Zm440 0h160v-160H620v160Z\"/>\n",
              "  </svg>\n",
              "    </button>\n",
              "\n",
              "  <style>\n",
              "    .colab-df-container {\n",
              "      display:flex;\n",
              "      gap: 12px;\n",
              "    }\n",
              "\n",
              "    .colab-df-convert {\n",
              "      background-color: #E8F0FE;\n",
              "      border: none;\n",
              "      border-radius: 50%;\n",
              "      cursor: pointer;\n",
              "      display: none;\n",
              "      fill: #1967D2;\n",
              "      height: 32px;\n",
              "      padding: 0 0 0 0;\n",
              "      width: 32px;\n",
              "    }\n",
              "\n",
              "    .colab-df-convert:hover {\n",
              "      background-color: #E2EBFA;\n",
              "      box-shadow: 0px 1px 2px rgba(60, 64, 67, 0.3), 0px 1px 3px 1px rgba(60, 64, 67, 0.15);\n",
              "      fill: #174EA6;\n",
              "    }\n",
              "\n",
              "    .colab-df-buttons div {\n",
              "      margin-bottom: 4px;\n",
              "    }\n",
              "\n",
              "    [theme=dark] .colab-df-convert {\n",
              "      background-color: #3B4455;\n",
              "      fill: #D2E3FC;\n",
              "    }\n",
              "\n",
              "    [theme=dark] .colab-df-convert:hover {\n",
              "      background-color: #434B5C;\n",
              "      box-shadow: 0px 1px 3px 1px rgba(0, 0, 0, 0.15);\n",
              "      filter: drop-shadow(0px 1px 2px rgba(0, 0, 0, 0.3));\n",
              "      fill: #FFFFFF;\n",
              "    }\n",
              "  </style>\n",
              "\n",
              "    <script>\n",
              "      const buttonEl =\n",
              "        document.querySelector('#df-ba5d310c-2be8-4205-ae23-a8c0170273f7 button.colab-df-convert');\n",
              "      buttonEl.style.display =\n",
              "        google.colab.kernel.accessAllowed ? 'block' : 'none';\n",
              "\n",
              "      async function convertToInteractive(key) {\n",
              "        const element = document.querySelector('#df-ba5d310c-2be8-4205-ae23-a8c0170273f7');\n",
              "        const dataTable =\n",
              "          await google.colab.kernel.invokeFunction('convertToInteractive',\n",
              "                                                    [key], {});\n",
              "        if (!dataTable) return;\n",
              "\n",
              "        const docLinkHtml = 'Like what you see? Visit the ' +\n",
              "          '<a target=\"_blank\" href=https://colab.research.google.com/notebooks/data_table.ipynb>data table notebook</a>'\n",
              "          + ' to learn more about interactive tables.';\n",
              "        element.innerHTML = '';\n",
              "        dataTable['output_type'] = 'display_data';\n",
              "        await google.colab.output.renderOutput(dataTable, element);\n",
              "        const docLink = document.createElement('div');\n",
              "        docLink.innerHTML = docLinkHtml;\n",
              "        element.appendChild(docLink);\n",
              "      }\n",
              "    </script>\n",
              "  </div>\n",
              "\n",
              "\n",
              "<div id=\"df-b30911e2-c11b-4e2e-81f3-f7193fa993e1\">\n",
              "  <button class=\"colab-df-quickchart\" onclick=\"quickchart('df-b30911e2-c11b-4e2e-81f3-f7193fa993e1')\"\n",
              "            title=\"Suggest charts\"\n",
              "            style=\"display:none;\">\n",
              "\n",
              "<svg xmlns=\"http://www.w3.org/2000/svg\" height=\"24px\"viewBox=\"0 0 24 24\"\n",
              "     width=\"24px\">\n",
              "    <g>\n",
              "        <path d=\"M19 3H5c-1.1 0-2 .9-2 2v14c0 1.1.9 2 2 2h14c1.1 0 2-.9 2-2V5c0-1.1-.9-2-2-2zM9 17H7v-7h2v7zm4 0h-2V7h2v10zm4 0h-2v-4h2v4z\"/>\n",
              "    </g>\n",
              "</svg>\n",
              "  </button>\n",
              "\n",
              "<style>\n",
              "  .colab-df-quickchart {\n",
              "      --bg-color: #E8F0FE;\n",
              "      --fill-color: #1967D2;\n",
              "      --hover-bg-color: #E2EBFA;\n",
              "      --hover-fill-color: #174EA6;\n",
              "      --disabled-fill-color: #AAA;\n",
              "      --disabled-bg-color: #DDD;\n",
              "  }\n",
              "\n",
              "  [theme=dark] .colab-df-quickchart {\n",
              "      --bg-color: #3B4455;\n",
              "      --fill-color: #D2E3FC;\n",
              "      --hover-bg-color: #434B5C;\n",
              "      --hover-fill-color: #FFFFFF;\n",
              "      --disabled-bg-color: #3B4455;\n",
              "      --disabled-fill-color: #666;\n",
              "  }\n",
              "\n",
              "  .colab-df-quickchart {\n",
              "    background-color: var(--bg-color);\n",
              "    border: none;\n",
              "    border-radius: 50%;\n",
              "    cursor: pointer;\n",
              "    display: none;\n",
              "    fill: var(--fill-color);\n",
              "    height: 32px;\n",
              "    padding: 0;\n",
              "    width: 32px;\n",
              "  }\n",
              "\n",
              "  .colab-df-quickchart:hover {\n",
              "    background-color: var(--hover-bg-color);\n",
              "    box-shadow: 0 1px 2px rgba(60, 64, 67, 0.3), 0 1px 3px 1px rgba(60, 64, 67, 0.15);\n",
              "    fill: var(--button-hover-fill-color);\n",
              "  }\n",
              "\n",
              "  .colab-df-quickchart-complete:disabled,\n",
              "  .colab-df-quickchart-complete:disabled:hover {\n",
              "    background-color: var(--disabled-bg-color);\n",
              "    fill: var(--disabled-fill-color);\n",
              "    box-shadow: none;\n",
              "  }\n",
              "\n",
              "  .colab-df-spinner {\n",
              "    border: 2px solid var(--fill-color);\n",
              "    border-color: transparent;\n",
              "    border-bottom-color: var(--fill-color);\n",
              "    animation:\n",
              "      spin 1s steps(1) infinite;\n",
              "  }\n",
              "\n",
              "  @keyframes spin {\n",
              "    0% {\n",
              "      border-color: transparent;\n",
              "      border-bottom-color: var(--fill-color);\n",
              "      border-left-color: var(--fill-color);\n",
              "    }\n",
              "    20% {\n",
              "      border-color: transparent;\n",
              "      border-left-color: var(--fill-color);\n",
              "      border-top-color: var(--fill-color);\n",
              "    }\n",
              "    30% {\n",
              "      border-color: transparent;\n",
              "      border-left-color: var(--fill-color);\n",
              "      border-top-color: var(--fill-color);\n",
              "      border-right-color: var(--fill-color);\n",
              "    }\n",
              "    40% {\n",
              "      border-color: transparent;\n",
              "      border-right-color: var(--fill-color);\n",
              "      border-top-color: var(--fill-color);\n",
              "    }\n",
              "    60% {\n",
              "      border-color: transparent;\n",
              "      border-right-color: var(--fill-color);\n",
              "    }\n",
              "    80% {\n",
              "      border-color: transparent;\n",
              "      border-right-color: var(--fill-color);\n",
              "      border-bottom-color: var(--fill-color);\n",
              "    }\n",
              "    90% {\n",
              "      border-color: transparent;\n",
              "      border-bottom-color: var(--fill-color);\n",
              "    }\n",
              "  }\n",
              "</style>\n",
              "\n",
              "  <script>\n",
              "    async function quickchart(key) {\n",
              "      const quickchartButtonEl =\n",
              "        document.querySelector('#' + key + ' button');\n",
              "      quickchartButtonEl.disabled = true;  // To prevent multiple clicks.\n",
              "      quickchartButtonEl.classList.add('colab-df-spinner');\n",
              "      try {\n",
              "        const charts = await google.colab.kernel.invokeFunction(\n",
              "            'suggestCharts', [key], {});\n",
              "      } catch (error) {\n",
              "        console.error('Error during call to suggestCharts:', error);\n",
              "      }\n",
              "      quickchartButtonEl.classList.remove('colab-df-spinner');\n",
              "      quickchartButtonEl.classList.add('colab-df-quickchart-complete');\n",
              "    }\n",
              "    (() => {\n",
              "      let quickchartButtonEl =\n",
              "        document.querySelector('#df-b30911e2-c11b-4e2e-81f3-f7193fa993e1 button');\n",
              "      quickchartButtonEl.style.display =\n",
              "        google.colab.kernel.accessAllowed ? 'block' : 'none';\n",
              "    })();\n",
              "  </script>\n",
              "</div>\n",
              "\n",
              "  <div id=\"id_136d59a0-6c3c-4629-8d84-88f7f8a5ecd6\">\n",
              "    <style>\n",
              "      .colab-df-generate {\n",
              "        background-color: #E8F0FE;\n",
              "        border: none;\n",
              "        border-radius: 50%;\n",
              "        cursor: pointer;\n",
              "        display: none;\n",
              "        fill: #1967D2;\n",
              "        height: 32px;\n",
              "        padding: 0 0 0 0;\n",
              "        width: 32px;\n",
              "      }\n",
              "\n",
              "      .colab-df-generate:hover {\n",
              "        background-color: #E2EBFA;\n",
              "        box-shadow: 0px 1px 2px rgba(60, 64, 67, 0.3), 0px 1px 3px 1px rgba(60, 64, 67, 0.15);\n",
              "        fill: #174EA6;\n",
              "      }\n",
              "\n",
              "      [theme=dark] .colab-df-generate {\n",
              "        background-color: #3B4455;\n",
              "        fill: #D2E3FC;\n",
              "      }\n",
              "\n",
              "      [theme=dark] .colab-df-generate:hover {\n",
              "        background-color: #434B5C;\n",
              "        box-shadow: 0px 1px 3px 1px rgba(0, 0, 0, 0.15);\n",
              "        filter: drop-shadow(0px 1px 2px rgba(0, 0, 0, 0.3));\n",
              "        fill: #FFFFFF;\n",
              "      }\n",
              "    </style>\n",
              "    <button class=\"colab-df-generate\" onclick=\"generateWithVariable('data')\"\n",
              "            title=\"Generate code using this dataframe.\"\n",
              "            style=\"display:none;\">\n",
              "\n",
              "  <svg xmlns=\"http://www.w3.org/2000/svg\" height=\"24px\"viewBox=\"0 0 24 24\"\n",
              "       width=\"24px\">\n",
              "    <path d=\"M7,19H8.4L18.45,9,17,7.55,7,17.6ZM5,21V16.75L18.45,3.32a2,2,0,0,1,2.83,0l1.4,1.43a1.91,1.91,0,0,1,.58,1.4,1.91,1.91,0,0,1-.58,1.4L9.25,21ZM18.45,9,17,7.55Zm-12,3A5.31,5.31,0,0,0,4.9,8.1,5.31,5.31,0,0,0,1,6.5,5.31,5.31,0,0,0,4.9,4.9,5.31,5.31,0,0,0,6.5,1,5.31,5.31,0,0,0,8.1,4.9,5.31,5.31,0,0,0,12,6.5,5.46,5.46,0,0,0,6.5,12Z\"/>\n",
              "  </svg>\n",
              "    </button>\n",
              "    <script>\n",
              "      (() => {\n",
              "      const buttonEl =\n",
              "        document.querySelector('#id_136d59a0-6c3c-4629-8d84-88f7f8a5ecd6 button.colab-df-generate');\n",
              "      buttonEl.style.display =\n",
              "        google.colab.kernel.accessAllowed ? 'block' : 'none';\n",
              "\n",
              "      buttonEl.onclick = () => {\n",
              "        google.colab.notebook.generateWithVariable('data');\n",
              "      }\n",
              "      })();\n",
              "    </script>\n",
              "  </div>\n",
              "\n",
              "    </div>\n",
              "  </div>\n"
            ]
          },
          "metadata": {},
          "execution_count": 16
        }
      ]
    },
    {
      "cell_type": "code",
      "source": [],
      "metadata": {
        "id": "vh4JI7FB83nD"
      },
      "execution_count": 18,
      "outputs": []
    },
    {
      "cell_type": "code",
      "source": [
        "X = data[\"preprocessed_text\"]\n",
        "y = data[\"category\"]"
      ],
      "metadata": {
        "id": "kqXxgeML9wzO"
      },
      "execution_count": 43,
      "outputs": []
    },
    {
      "cell_type": "code",
      "source": [
        "X_train, X_test, y_train, y_test = train_test_split(X, y, test_size=0.30, random_state=42)"
      ],
      "metadata": {
        "id": "c6LPJaAT90rv"
      },
      "execution_count": 44,
      "outputs": []
    },
    {
      "cell_type": "code",
      "source": [
        "from sklearn.svm import SVC"
      ],
      "metadata": {
        "id": "Mzr4qcJF4hVh"
      },
      "execution_count": 45,
      "outputs": []
    },
    {
      "cell_type": "code",
      "source": [
        "vectorizer = TfidfVectorizer()\n",
        "X_train_vec = vectorizer.fit_transform(X_train)\n",
        "X_test_vec = vectorizer.transform(X_test)\n",
        "\n",
        "\n",
        "svm_classifier = SVC(kernel='linear')\n",
        "svm_classifier.fit(X_train_vec, y_train)\n",
        "\n",
        "\n",
        "y_pred = svm_classifier.predict(X_test_vec)\n",
        "\n",
        "\n",
        "accuracy = accuracy_score(y_test, y_pred)\n",
        "print(\"SVM Classifier Accuracy:\", accuracy)"
      ],
      "metadata": {
        "colab": {
          "base_uri": "https://localhost:8080/"
        },
        "id": "94g0rl1b4aoB",
        "outputId": "17cda855-35c8-4e0d-e406-9e3cd5a58b36"
      },
      "execution_count": 46,
      "outputs": [
        {
          "output_type": "stream",
          "name": "stdout",
          "text": [
            "SVM Classifier Accuracy: 0.9051753374482805\n"
          ]
        }
      ]
    },
    {
      "cell_type": "code",
      "source": [
        "def preprocess_address(address):\n",
        "    address = address.lower()\n",
        "    address = re.sub(r\"[^\\w\\s]\", \"\", address)\n",
        "    address = address.strip()\n",
        "    tokens = nltk.word_tokenize(address)\n",
        "    tokens = [token for token in tokens if token not in stop_words]\n",
        "    tokens = [stemmer.stem(token) for token in tokens]\n",
        "    tokens = [lemmatizer.lemmatize(token) for token in tokens]\n",
        "    preprocessed_address = \" \".join(tokens)\n",
        "    return preprocessed_address"
      ],
      "metadata": {
        "id": "N-X1uqJiZok8"
      },
      "execution_count": 47,
      "outputs": []
    },
    {
      "cell_type": "code",
      "source": [
        "def predict_category(address):\n",
        "\n",
        "    preprocessed_address = preprocess_address(address)\n",
        "\n",
        "    address_vec = vectorizer.transform([preprocessed_address])\n",
        "\n",
        "    category = svm_classifier.predict(address_vec)[0]\n",
        "\n",
        "    return category"
      ],
      "metadata": {
        "id": "If4Mk5zsZrtN"
      },
      "execution_count": 48,
      "outputs": []
    },
    {
      "cell_type": "code",
      "source": [],
      "metadata": {
        "id": "v4jvwsMT90eG"
      },
      "execution_count": null,
      "outputs": []
    },
    {
      "cell_type": "code",
      "source": [
        "input_address = \"West Agargaon near science Museum Bnp Bazar new Parliament complex,Dhaka 1207, flat 201, building C-2\"\n",
        "\n",
        "# Predict category\n",
        "predicted_category = predict_category(input_address)\n",
        "print(\"Predicted Category:\", predicted_category)\n"
      ],
      "metadata": {
        "colab": {
          "base_uri": "https://localhost:8080/"
        },
        "id": "GkNARHviTFL3",
        "outputId": "779f1822-ce48-480d-eed6-d41d51a913e5"
      },
      "execution_count": 49,
      "outputs": [
        {
          "output_type": "stream",
          "name": "stdout",
          "text": [
            "Predicted Category: Recreation\n"
          ]
        }
      ]
    },
    {
      "cell_type": "code",
      "source": [
        "while(1):\n",
        "  input_address = input(\"Enter a address: \")\n",
        "\n",
        "  # Predict category\n",
        "  predicted_category = predict_category(input_address)\n",
        "  print(\"Predicted Category:\", predicted_category)"
      ],
      "metadata": {
        "colab": {
          "base_uri": "https://localhost:8080/"
        },
        "id": "T6giDW4oEfZr",
        "outputId": "c150c977-fbb9-4647-b3c3-1eaa0f5107a0"
      },
      "execution_count": null,
      "outputs": [
        {
          "output_type": "stream",
          "name": "stdout",
          "text": [
            "Enter a address: West Agargaon near science Museum Bnp Bazar new Parliament complex,Dhaka 1207, flat 201, building C-2\n",
            "Predicted Category: Recreation\n",
            "Enter a address: West Agargaon near science Museum Bnp Bazar new Parliament complex,Dhaka 1207, flat 201, building C-2\n",
            "Predicted Category: Recreation\n"
          ]
        }
      ]
    }
  ]
}